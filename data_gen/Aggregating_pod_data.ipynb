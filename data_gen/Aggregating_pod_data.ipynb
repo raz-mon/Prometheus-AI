{
  "nbformat": 4,
  "nbformat_minor": 0,
  "metadata": {
    "colab": {
      "name": "Aggregating_pod_data.ipynb",
      "provenance": [],
      "collapsed_sections": []
    },
    "kernelspec": {
      "name": "python3",
      "display_name": "Python 3"
    },
    "language_info": {
      "name": "python"
    }
  },
  "cells": [
    {
      "cell_type": "code",
      "source": [
        "pip install prometheus_api_client"
      ],
      "metadata": {
        "id": "MjhfWrSNpjUK"
      },
      "execution_count": null,
      "outputs": []
    },
    {
      "cell_type": "code",
      "source": [
        "import numpy as np\n",
        "import pandas as pd\n",
        "from main import OPERATE_FIRST_TOKEN, THANOS_URL\n",
        "from Thanos_conn import ThanosConnect\n",
        "import matplotlib.pyplot as plt\n",
        "import plotly.graph_objects as go\n",
        "from prometheus_api_client.utils import parse_datetime "
      ],
      "metadata": {
        "id": "xeV4RhfTpSpT"
      },
      "execution_count": 9,
      "outputs": []
    },
    {
      "cell_type": "code",
      "source": [
        "def clean_and_dated_df(df):\n",
        "  new_df = df.copy()\n",
        "  new_df.index = new_df['time']\n",
        "  new_df.index = pd.to_datetime(new_df.index, unit='s', utc=True)\n",
        "  new_df = new_df['values']\n",
        "  return new_df\n",
        "\n",
        "def get_first_ts(df):\n",
        "  \"\"\"Get first Timestamp of the data-frame\"\"\"\n",
        "  return np.array(df.index)[0]\n",
        "\n",
        "def get_last_ts(df):\n",
        "  \"\"\"Get last Timestamp of the data-frame\"\"\"\n",
        "  return np.array(df.index)[-1]\n",
        "\n",
        "def append_tss(df1, df2):\n",
        "  \"\"\"Append two time-series date-frames\"\"\"\n",
        "  return df1.append(df2.loc[get_last_ts(df1) : ])"
      ],
      "metadata": {
        "id": "XQWb0qkQ7cVs"
      },
      "execution_count": 28,
      "outputs": []
    },
    {
      "cell_type": "code",
      "source": [
        "\"\"\"Aggregate results of the same application\"\"\"\n",
        "legal_pod_names = ['klusterlet', 'cloud-credential-operator'] # And many more.. need to write them all down..\n",
        "\n",
        "\"\"\"\n",
        "  for pod_name in legal_pod_names:\n",
        "    f1 = create_file_for_app(pod_name)\n",
        "    for file in directory:        #  (in increasing dates order - must make sure of that)\n",
        "      if pod_name_no_rand(file) == pod_name:\n",
        "        aggregate_results(f1, file)     # Make sure you COPY the file, do not write on at, or MOVE from it!\n",
        "\"\"\"\n",
        "\n",
        "def create_file_for_app(pod_name : str):\n",
        "  return -1   # TBD\n",
        "\n",
        "def pod_name_no_rand(file_path):\n",
        "  df = pd.read_csv(file_path)\n",
        "  pod_name = df['metric data'].loc[3][5:]\n",
        "  for legal_pod_name in legal_pod_names:\n",
        "    if legal_pod_name == pod_name[len(legal_pod_name)]:\n",
        "      return legal_pod_name\n",
        "  print(f'pod name not found!')\n",
        "  return 'not_found!'\n",
        "\n",
        "def aggregate_results(f1, f2):\n",
        "  \"\"\"Aggregate the results of the two files (.csv files)\"\"\"\n",
        "  return -1       # TBD\n"
      ],
      "metadata": {
        "id": "Y2zArb-M_BhD"
      },
      "execution_count": null,
      "outputs": []
    },
    {
      "cell_type": "code",
      "source": [
        ""
      ],
      "metadata": {
        "id": "DQ9aYod25baG"
      },
      "execution_count": 13,
      "outputs": []
    },
    {
      "cell_type": "code",
      "source": [
        ""
      ],
      "metadata": {
        "id": "OuIOvJ8b-tor"
      },
      "execution_count": null,
      "outputs": []
    },
    {
      "cell_type": "code",
      "source": [
        "\"\"\"Appending two files\"\"\"\n",
        "\n",
        "df1 = pd.read_csv('1_old.csv')\n",
        "df1 = clean_and_dated_df(df1)\n",
        "fig = go.Figure()\n",
        "\n",
        "fig.add_trace(go.Scatter(x=df1.index, y=df1))\n",
        "\n",
        "df2 = pd.read_csv('1.csv')\n",
        "df2 = clean_and_dated_df(df2)\n",
        "fig.add_trace(go.Scatter(x=df2.index, y=df2))\n",
        "\n",
        "app = append_tss(df1, df2)\n",
        "fig.add_trace(go.Scatter(x=app.index, y=app))\n",
        "fig.update_layout(\n",
        "    title=\"Pod memory usage: sum\", xaxis_title=\"Time\", yaxis_title=\"Bytes\"\n",
        ")"
      ],
      "metadata": {
        "id": "mfvon2jo5bgz"
      },
      "execution_count": null,
      "outputs": []
    }
  ]
}